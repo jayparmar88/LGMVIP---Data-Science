{
 "cells": [
  {
   "cell_type": "markdown",
   "id": "a2e4da4f",
   "metadata": {},
   "source": [
    "# Jay Parmar"
   ]
  },
  {
   "cell_type": "markdown",
   "id": "12ea4ecf",
   "metadata": {},
   "source": [
    "# Topic : Stock Price Prediction and Forecasting using Stacked LSTM :"
   ]
  },
  {
   "cell_type": "markdown",
   "id": "af8929e8",
   "metadata": {},
   "source": [
    "● Predicting the behavior of the stock market has been an area that has attracted many researchers, particularly in the field of Machine Learning and Data Science. Here, we are doing same with the given data."
   ]
  },
  {
   "cell_type": "markdown",
   "id": "c012653b",
   "metadata": {},
   "source": [
    "## Import required libraries :"
   ]
  },
  {
   "cell_type": "code",
   "execution_count": 1,
   "id": "d2fcb09f",
   "metadata": {},
   "outputs": [],
   "source": [
    "import pandas as pd\n",
    "import numpy as np\n",
    "import math\n",
    "import matplotlib.pyplot as plt\n",
    "from sklearn.preprocessing import MinMaxScaler\n",
    "from sklearn.metrics import mean_squared_error\n",
    "import math\n",
    "from tensorflow.keras.layers import LSTM\n",
    "from tensorflow.keras.models import Sequential\n",
    "from tensorflow.keras.layers import Dense\n",
    "%matplotlib inline\n",
    "\n",
    "from warnings import filterwarnings\n",
    "filterwarnings(action='ignore')"
   ]
  },
  {
   "cell_type": "markdown",
   "id": "f8a8d7ef",
   "metadata": {},
   "source": [
    "## Iris Data Set :"
   ]
  },
  {
   "cell_type": "code",
   "execution_count": 2,
   "id": "678a0b1a",
   "metadata": {},
   "outputs": [
    {
     "data": {
      "text/html": [
       "<div>\n",
       "<style scoped>\n",
       "    .dataframe tbody tr th:only-of-type {\n",
       "        vertical-align: middle;\n",
       "    }\n",
       "\n",
       "    .dataframe tbody tr th {\n",
       "        vertical-align: top;\n",
       "    }\n",
       "\n",
       "    .dataframe thead th {\n",
       "        text-align: right;\n",
       "    }\n",
       "</style>\n",
       "<table border=\"1\" class=\"dataframe\">\n",
       "  <thead>\n",
       "    <tr style=\"text-align: right;\">\n",
       "      <th></th>\n",
       "      <th>Date</th>\n",
       "      <th>Open</th>\n",
       "      <th>High</th>\n",
       "      <th>Low</th>\n",
       "      <th>Last</th>\n",
       "      <th>Close</th>\n",
       "      <th>Total_Trade_Quantity</th>\n",
       "      <th>turnover(Lacs)</th>\n",
       "    </tr>\n",
       "  </thead>\n",
       "  <tbody>\n",
       "    <tr>\n",
       "      <th>2034</th>\n",
       "      <td>21-07-2010</td>\n",
       "      <td>122.1</td>\n",
       "      <td>123.00</td>\n",
       "      <td>121.05</td>\n",
       "      <td>121.10</td>\n",
       "      <td>121.55</td>\n",
       "      <td>658666</td>\n",
       "      <td>803.56</td>\n",
       "    </tr>\n",
       "    <tr>\n",
       "      <th>2033</th>\n",
       "      <td>22-07-2010</td>\n",
       "      <td>120.3</td>\n",
       "      <td>122.00</td>\n",
       "      <td>120.25</td>\n",
       "      <td>120.75</td>\n",
       "      <td>120.90</td>\n",
       "      <td>293312</td>\n",
       "      <td>355.17</td>\n",
       "    </tr>\n",
       "    <tr>\n",
       "      <th>2032</th>\n",
       "      <td>23-07-2010</td>\n",
       "      <td>121.8</td>\n",
       "      <td>121.95</td>\n",
       "      <td>120.25</td>\n",
       "      <td>120.35</td>\n",
       "      <td>120.65</td>\n",
       "      <td>281312</td>\n",
       "      <td>340.31</td>\n",
       "    </tr>\n",
       "    <tr>\n",
       "      <th>2031</th>\n",
       "      <td>26-07-2010</td>\n",
       "      <td>120.1</td>\n",
       "      <td>121.00</td>\n",
       "      <td>117.10</td>\n",
       "      <td>117.10</td>\n",
       "      <td>117.60</td>\n",
       "      <td>658440</td>\n",
       "      <td>780.01</td>\n",
       "    </tr>\n",
       "    <tr>\n",
       "      <th>2030</th>\n",
       "      <td>27-07-2010</td>\n",
       "      <td>117.6</td>\n",
       "      <td>119.50</td>\n",
       "      <td>112.00</td>\n",
       "      <td>118.80</td>\n",
       "      <td>118.65</td>\n",
       "      <td>586100</td>\n",
       "      <td>694.98</td>\n",
       "    </tr>\n",
       "  </tbody>\n",
       "</table>\n",
       "</div>"
      ],
      "text/plain": [
       "            Date   Open    High     Low    Last   Close  Total_Trade_Quantity  \\\n",
       "2034  21-07-2010  122.1  123.00  121.05  121.10  121.55                658666   \n",
       "2033  22-07-2010  120.3  122.00  120.25  120.75  120.90                293312   \n",
       "2032  23-07-2010  121.8  121.95  120.25  120.35  120.65                281312   \n",
       "2031  26-07-2010  120.1  121.00  117.10  117.10  117.60                658440   \n",
       "2030  27-07-2010  117.6  119.50  112.00  118.80  118.65                586100   \n",
       "\n",
       "      turnover(Lacs)  \n",
       "2034          803.56  \n",
       "2033          355.17  \n",
       "2032          340.31  \n",
       "2031          780.01  \n",
       "2030          694.98  "
      ]
     },
     "execution_count": 2,
     "metadata": {},
     "output_type": "execute_result"
    }
   ],
   "source": [
    "df = pd.read_csv('Stock_price.csv')\n",
    "df = df.dropna()\n",
    "df=df.iloc[::-1]\n",
    "df.head()"
   ]
  },
  {
   "cell_type": "code",
   "execution_count": 3,
   "id": "de51d4d1",
   "metadata": {
    "scrolled": true
   },
   "outputs": [
    {
     "data": {
      "text/html": [
       "<div>\n",
       "<style scoped>\n",
       "    .dataframe tbody tr th:only-of-type {\n",
       "        vertical-align: middle;\n",
       "    }\n",
       "\n",
       "    .dataframe tbody tr th {\n",
       "        vertical-align: top;\n",
       "    }\n",
       "\n",
       "    .dataframe thead th {\n",
       "        text-align: right;\n",
       "    }\n",
       "</style>\n",
       "<table border=\"1\" class=\"dataframe\">\n",
       "  <thead>\n",
       "    <tr style=\"text-align: right;\">\n",
       "      <th></th>\n",
       "      <th>Date</th>\n",
       "      <th>Open</th>\n",
       "      <th>High</th>\n",
       "      <th>Low</th>\n",
       "      <th>Last</th>\n",
       "      <th>Close</th>\n",
       "      <th>Total_Trade_Quantity</th>\n",
       "      <th>turnover(Lacs)</th>\n",
       "    </tr>\n",
       "  </thead>\n",
       "  <tbody>\n",
       "    <tr>\n",
       "      <th>4</th>\n",
       "      <td>24-09-2018</td>\n",
       "      <td>233.55</td>\n",
       "      <td>239.20</td>\n",
       "      <td>230.75</td>\n",
       "      <td>234.00</td>\n",
       "      <td>233.30</td>\n",
       "      <td>3423509</td>\n",
       "      <td>7999.55</td>\n",
       "    </tr>\n",
       "    <tr>\n",
       "      <th>3</th>\n",
       "      <td>25-09-2018</td>\n",
       "      <td>233.30</td>\n",
       "      <td>236.75</td>\n",
       "      <td>232.00</td>\n",
       "      <td>236.25</td>\n",
       "      <td>236.10</td>\n",
       "      <td>2349368</td>\n",
       "      <td>5503.90</td>\n",
       "    </tr>\n",
       "    <tr>\n",
       "      <th>2</th>\n",
       "      <td>26-09-2018</td>\n",
       "      <td>240.00</td>\n",
       "      <td>240.00</td>\n",
       "      <td>232.50</td>\n",
       "      <td>235.00</td>\n",
       "      <td>234.25</td>\n",
       "      <td>2240909</td>\n",
       "      <td>5248.60</td>\n",
       "    </tr>\n",
       "    <tr>\n",
       "      <th>1</th>\n",
       "      <td>27-09-2018</td>\n",
       "      <td>234.55</td>\n",
       "      <td>236.80</td>\n",
       "      <td>231.10</td>\n",
       "      <td>233.80</td>\n",
       "      <td>233.25</td>\n",
       "      <td>5082859</td>\n",
       "      <td>11859.95</td>\n",
       "    </tr>\n",
       "    <tr>\n",
       "      <th>0</th>\n",
       "      <td>28-09-2018</td>\n",
       "      <td>234.05</td>\n",
       "      <td>235.95</td>\n",
       "      <td>230.20</td>\n",
       "      <td>233.50</td>\n",
       "      <td>233.75</td>\n",
       "      <td>3069914</td>\n",
       "      <td>7162.35</td>\n",
       "    </tr>\n",
       "  </tbody>\n",
       "</table>\n",
       "</div>"
      ],
      "text/plain": [
       "         Date    Open    High     Low    Last   Close  Total_Trade_Quantity  \\\n",
       "4  24-09-2018  233.55  239.20  230.75  234.00  233.30               3423509   \n",
       "3  25-09-2018  233.30  236.75  232.00  236.25  236.10               2349368   \n",
       "2  26-09-2018  240.00  240.00  232.50  235.00  234.25               2240909   \n",
       "1  27-09-2018  234.55  236.80  231.10  233.80  233.25               5082859   \n",
       "0  28-09-2018  234.05  235.95  230.20  233.50  233.75               3069914   \n",
       "\n",
       "   turnover(Lacs)  \n",
       "4         7999.55  \n",
       "3         5503.90  \n",
       "2         5248.60  \n",
       "1        11859.95  \n",
       "0         7162.35  "
      ]
     },
     "execution_count": 3,
     "metadata": {},
     "output_type": "execute_result"
    }
   ],
   "source": [
    "df.tail()"
   ]
  },
  {
   "cell_type": "code",
   "execution_count": 4,
   "id": "0724e6f6",
   "metadata": {},
   "outputs": [
    {
     "data": {
      "text/plain": [
       "Date                    0\n",
       "Open                    0\n",
       "High                    0\n",
       "Low                     0\n",
       "Last                    0\n",
       "Close                   0\n",
       "Total_Trade_Quantity    0\n",
       "turnover(Lacs)          0\n",
       "dtype: int64"
      ]
     },
     "execution_count": 4,
     "metadata": {},
     "output_type": "execute_result"
    }
   ],
   "source": [
    "df.isnull().sum()"
   ]
  },
  {
   "cell_type": "code",
   "execution_count": 5,
   "id": "8a4e779d",
   "metadata": {},
   "outputs": [],
   "source": [
    "df_close = df['Close']"
   ]
  },
  {
   "cell_type": "code",
   "execution_count": 6,
   "id": "6282d9ca",
   "metadata": {},
   "outputs": [
    {
     "data": {
      "text/plain": [
       "(2035,)"
      ]
     },
     "execution_count": 6,
     "metadata": {},
     "output_type": "execute_result"
    }
   ],
   "source": [
    "df_close.shape"
   ]
  },
  {
   "cell_type": "code",
   "execution_count": 7,
   "id": "9fbddfd6",
   "metadata": {
    "scrolled": true
   },
   "outputs": [
    {
     "data": {
      "text/plain": [
       "[<matplotlib.lines.Line2D at 0x25b51cc74f0>]"
      ]
     },
     "execution_count": 7,
     "metadata": {},
     "output_type": "execute_result"
    },
    {
     "data": {
      "image/png": "[encoded data removed]",
      "text/plain": [
       "<Figure size 576x288 with 1 Axes>"
      ]
     },
     "metadata": {
      "needs_background": "light"
     },
     "output_type": "display_data"
    }
   ],
   "source": [
    "df_close=df.reset_index()['Close']\n",
    "plt.figure(figsize=(8,4))\n",
    "plt.plot(df_close)"
   ]
  },
  {
   "cell_type": "code",
   "execution_count": 8,
   "id": "cf14ff37",
   "metadata": {},
   "outputs": [],
   "source": [
    "scaler = MinMaxScaler(feature_range = (0,1))\n",
    "df_close = scaler.fit_transform(np.array(df_close).reshape(-1,1))"
   ]
  },
  {
   "cell_type": "code",
   "execution_count": 9,
   "id": "c6ca33fd",
   "metadata": {},
   "outputs": [
    {
     "data": {
      "text/plain": [
       "(2035, 1)"
      ]
     },
     "execution_count": 9,
     "metadata": {},
     "output_type": "execute_result"
    }
   ],
   "source": [
    "df_close.shape"
   ]
  },
  {
   "cell_type": "code",
   "execution_count": 10,
   "id": "fbbeb4b9",
   "metadata": {},
   "outputs": [
    {
     "data": {
      "text/plain": [
       "array([[0.16584967],\n",
       "       [0.16319444],\n",
       "       [0.1621732 ],\n",
       "       ...,\n",
       "       [0.62622549],\n",
       "       [0.62214052],\n",
       "       [0.62418301]])"
      ]
     },
     "execution_count": 10,
     "metadata": {},
     "output_type": "execute_result"
    }
   ],
   "source": [
    "df_close"
   ]
  },
  {
   "cell_type": "markdown",
   "id": "99446107",
   "metadata": {},
   "source": [
    "# Train and Test Split :"
   ]
  },
  {
   "cell_type": "code",
   "execution_count": 11,
   "id": "d2030c1c",
   "metadata": {},
   "outputs": [],
   "source": [
    "training_size = int(len(df_close) * 0.75)\n",
    "test_size = len(df_close) - training_size\n",
    "train_data, test_data = df_close[0:training_size,:], df_close[training_size:len(df_close),:1]"
   ]
  },
  {
   "cell_type": "code",
   "execution_count": 12,
   "id": "2c3833cc",
   "metadata": {},
   "outputs": [
    {
     "data": {
      "text/plain": [
       "1526"
      ]
     },
     "execution_count": 12,
     "metadata": {},
     "output_type": "execute_result"
    }
   ],
   "source": [
    "len(train_data)"
   ]
  },
  {
   "cell_type": "code",
   "execution_count": 13,
   "id": "1add12ff",
   "metadata": {},
   "outputs": [
    {
     "data": {
      "text/plain": [
       "509"
      ]
     },
     "execution_count": 13,
     "metadata": {},
     "output_type": "execute_result"
    }
   ],
   "source": [
    "len(test_data)"
   ]
  },
  {
   "cell_type": "markdown",
   "id": "36cd5ccc",
   "metadata": {},
   "source": [
    "# Data Preprocessing :"
   ]
  },
  {
   "cell_type": "code",
   "execution_count": 14,
   "id": "0b5fb190",
   "metadata": {},
   "outputs": [],
   "source": [
    "def create_dataset(dataset, time_step = 1):\n",
    "    dataX, dataY = [], []\n",
    "    for i in range(len(dataset) - time_step - 1):\n",
    "        a = dataset[i:(i+time_step), 0]\n",
    "        dataX.append(a)\n",
    "        dataY.append(dataset[i+time_step, 0])\n",
    "    return np.array(dataX), np.array(dataY)"
   ]
  },
  {
   "cell_type": "code",
   "execution_count": 15,
   "id": "a2994a3d",
   "metadata": {},
   "outputs": [],
   "source": [
    "time_step = 100\n",
    "x_train, y_train = create_dataset(train_data, time_step)\n",
    "x_test, y_test = create_dataset(test_data, time_step)"
   ]
  },
  {
   "cell_type": "code",
   "execution_count": 16,
   "id": "c6d977b6",
   "metadata": {},
   "outputs": [],
   "source": [
    "x_train = x_train.reshape(x_train.shape[0], x_train.shape[1], 1)\n",
    "x_test = x_test.reshape(x_test.shape[0], x_test.shape[1], 1)"
   ]
  },
  {
   "cell_type": "code",
   "execution_count": 17,
   "id": "b8209595",
   "metadata": {},
   "outputs": [
    {
     "name": "stdout",
     "output_type": "stream",
     "text": [
      "(1425, 100, 1)\n",
      "(1425,)\n"
     ]
    },
    {
     "data": {
      "text/plain": [
       "(None, None)"
      ]
     },
     "execution_count": 17,
     "metadata": {},
     "output_type": "execute_result"
    }
   ],
   "source": [
    "print(x_train.shape), print(y_train.shape)"
   ]
  },
  {
   "cell_type": "code",
   "execution_count": 18,
   "id": "2a52ad64",
   "metadata": {},
   "outputs": [
    {
     "name": "stdout",
     "output_type": "stream",
     "text": [
      "(408, 100, 1)\n",
      "(408,)\n"
     ]
    },
    {
     "data": {
      "text/plain": [
       "(None, None)"
      ]
     },
     "execution_count": 18,
     "metadata": {},
     "output_type": "execute_result"
    }
   ],
   "source": [
    "print(x_test.shape), print(y_test.shape)"
   ]
  },
  {
   "cell_type": "markdown",
   "id": "b60d8e9f",
   "metadata": {},
   "source": [
    "# LSTM :\n",
    "\n",
    "●    LSTMs are widely used for sequence prediction problems and have proven to be extremely effective. The reason they work so well is that LSTM can store past important information and forget the information that is not usefull.\n",
    "\n",
    "●    LSTM has three gates:\n",
    "* The input gate: The input gate adds information to the cell state,\n",
    "* The forget gate: It removes the information that is no longer required by the model,\n",
    "* The output gate: Output Gate at LSTM selects the information to be shown as output."
   ]
  },
  {
   "cell_type": "code",
   "execution_count": 19,
   "id": "f8cbad3d",
   "metadata": {},
   "outputs": [],
   "source": [
    "model = Sequential()\n",
    "model.add(LSTM(50, return_sequences = True, input_shape = (100,1)))\n",
    "model.add(LSTM(50, return_sequences = True))\n",
    "model.add(LSTM(50))\n",
    "model.add(Dense(1))\n",
    "model.compile(loss = 'mean_squared_error', optimizer = 'adam')"
   ]
  },
  {
   "cell_type": "code",
   "execution_count": 20,
   "id": "ffd79cee",
   "metadata": {},
   "outputs": [
    {
     "name": "stdout",
     "output_type": "stream",
     "text": [
      "Model: \"sequential\"\n",
      "_________________________________________________________________\n",
      " Layer (type)                Output Shape              Param #   \n",
      "=================================================================\n",
      " lstm (LSTM)                 (None, 100, 50)           10400     \n",
      "                                                                 \n",
      " lstm_1 (LSTM)               (None, 100, 50)           20200     \n",
      "                                                                 \n",
      " lstm_2 (LSTM)               (None, 50)                20200     \n",
      "                                                                 \n",
      " dense (Dense)               (None, 1)                 51        \n",
      "                                                                 \n",
      "=================================================================\n",
      "Total params: 50,851\n",
      "Trainable params: 50,851\n",
      "Non-trainable params: 0\n",
      "_________________________________________________________________\n"
     ]
    }
   ],
   "source": [
    "model.summary()"
   ]
  },
  {
   "cell_type": "code",
   "execution_count": 21,
   "id": "5df3a63d",
   "metadata": {},
   "outputs": [
    {
     "name": "stdout",
     "output_type": "stream",
     "text": [
      "Epoch 1/100\n",
      "23/23 [==============================] - 10s 200ms/step - loss: 0.0092 - val_loss: 0.0158\n",
      "Epoch 2/100\n",
      "23/23 [==============================] - 3s 138ms/step - loss: 0.0017 - val_loss: 0.0075\n",
      "Epoch 3/100\n",
      "23/23 [==============================] - 3s 136ms/step - loss: 9.2316e-04 - val_loss: 0.0048\n",
      "Epoch 4/100\n",
      "23/23 [==============================] - 3s 142ms/step - loss: 8.4916e-04 - val_loss: 0.0039\n",
      "Epoch 5/100\n",
      "23/23 [==============================] - 3s 147ms/step - loss: 8.1039e-04 - val_loss: 0.0041\n",
      "Epoch 6/100\n",
      "23/23 [==============================] - 4s 163ms/step - loss: 7.6715e-04 - val_loss: 0.0057\n",
      "Epoch 7/100\n",
      "23/23 [==============================] - 4s 182ms/step - loss: 7.6488e-04 - val_loss: 0.0065\n",
      "Epoch 8/100\n",
      "23/23 [==============================] - 4s 172ms/step - loss: 7.3506e-04 - val_loss: 0.0048\n",
      "Epoch 9/100\n",
      "23/23 [==============================] - 4s 195ms/step - loss: 6.9480e-04 - val_loss: 0.0036\n",
      "Epoch 10/100\n",
      "23/23 [==============================] - 4s 185ms/step - loss: 6.5752e-04 - val_loss: 0.0045\n",
      "Epoch 11/100\n",
      "23/23 [==============================] - 3s 149ms/step - loss: 6.4682e-04 - val_loss: 0.0067\n",
      "Epoch 12/100\n",
      "23/23 [==============================] - 4s 165ms/step - loss: 6.5643e-04 - val_loss: 0.0052\n",
      "Epoch 13/100\n",
      "23/23 [==============================] - 4s 169ms/step - loss: 6.4530e-04 - val_loss: 0.0047\n",
      "Epoch 14/100\n",
      "23/23 [==============================] - 4s 168ms/step - loss: 5.8254e-04 - val_loss: 0.0064\n",
      "Epoch 15/100\n",
      "23/23 [==============================] - 4s 161ms/step - loss: 6.9049e-04 - val_loss: 0.0057\n",
      "Epoch 16/100\n",
      "23/23 [==============================] - 4s 174ms/step - loss: 6.2531e-04 - val_loss: 0.0081\n",
      "Epoch 17/100\n",
      "23/23 [==============================] - 3s 137ms/step - loss: 5.7808e-04 - val_loss: 0.0054\n",
      "Epoch 18/100\n",
      "23/23 [==============================] - 4s 175ms/step - loss: 5.6682e-04 - val_loss: 0.0086\n",
      "Epoch 19/100\n",
      "23/23 [==============================] - 3s 138ms/step - loss: 5.0528e-04 - val_loss: 0.0076\n",
      "Epoch 20/100\n",
      "23/23 [==============================] - 3s 141ms/step - loss: 5.0127e-04 - val_loss: 0.0096\n",
      "Epoch 21/100\n",
      "23/23 [==============================] - 4s 160ms/step - loss: 4.9165e-04 - val_loss: 0.0062\n",
      "Epoch 22/100\n",
      "23/23 [==============================] - 3s 148ms/step - loss: 4.7360e-04 - val_loss: 0.0085\n",
      "Epoch 23/100\n",
      "23/23 [==============================] - 3s 145ms/step - loss: 4.7454e-04 - val_loss: 0.0073\n",
      "Epoch 24/100\n",
      "23/23 [==============================] - 3s 140ms/step - loss: 4.4015e-04 - val_loss: 0.0090\n",
      "Epoch 25/100\n",
      "23/23 [==============================] - 3s 148ms/step - loss: 4.3140e-04 - val_loss: 0.0070\n",
      "Epoch 26/100\n",
      "23/23 [==============================] - 3s 130ms/step - loss: 4.2520e-04 - val_loss: 0.0107\n",
      "Epoch 27/100\n",
      "23/23 [==============================] - 3s 152ms/step - loss: 4.3411e-04 - val_loss: 0.0061\n",
      "Epoch 28/100\n",
      "23/23 [==============================] - 3s 144ms/step - loss: 3.9600e-04 - val_loss: 0.0063\n",
      "Epoch 29/100\n",
      "23/23 [==============================] - 4s 166ms/step - loss: 3.8477e-04 - val_loss: 0.0075\n",
      "Epoch 30/100\n",
      "23/23 [==============================] - 3s 135ms/step - loss: 4.0101e-04 - val_loss: 0.0046\n",
      "Epoch 31/100\n",
      "23/23 [==============================] - 3s 136ms/step - loss: 4.0042e-04 - val_loss: 0.0037\n",
      "Epoch 32/100\n",
      "23/23 [==============================] - 3s 127ms/step - loss: 3.6920e-04 - val_loss: 0.0065\n",
      "Epoch 33/100\n",
      "23/23 [==============================] - 3s 143ms/step - loss: 3.4020e-04 - val_loss: 0.0068\n",
      "Epoch 34/100\n",
      "23/23 [==============================] - 3s 142ms/step - loss: 3.2141e-04 - val_loss: 0.0053\n",
      "Epoch 35/100\n",
      "23/23 [==============================] - 3s 142ms/step - loss: 3.2422e-04 - val_loss: 0.0067\n",
      "Epoch 36/100\n",
      "23/23 [==============================] - 4s 164ms/step - loss: 3.0322e-04 - val_loss: 0.0032\n",
      "Epoch 37/100\n",
      "23/23 [==============================] - 3s 141ms/step - loss: 3.0111e-04 - val_loss: 0.0074\n",
      "Epoch 38/100\n",
      "23/23 [==============================] - 3s 138ms/step - loss: 3.0411e-04 - val_loss: 0.0056\n",
      "Epoch 39/100\n",
      "23/23 [==============================] - 3s 142ms/step - loss: 2.7964e-04 - val_loss: 0.0046\n",
      "Epoch 40/100\n",
      "23/23 [==============================] - 3s 139ms/step - loss: 2.7322e-04 - val_loss: 0.0011\n",
      "Epoch 41/100\n",
      "23/23 [==============================] - 3s 146ms/step - loss: 3.0386e-04 - val_loss: 0.0051\n",
      "Epoch 42/100\n",
      "23/23 [==============================] - 3s 142ms/step - loss: 2.6254e-04 - val_loss: 0.0022\n",
      "Epoch 43/100\n",
      "23/23 [==============================] - 4s 174ms/step - loss: 2.5338e-04 - val_loss: 0.0027\n",
      "Epoch 44/100\n",
      "23/23 [==============================] - 3s 151ms/step - loss: 2.5540e-04 - val_loss: 0.0059\n",
      "Epoch 45/100\n",
      "23/23 [==============================] - 3s 142ms/step - loss: 2.7081e-04 - val_loss: 0.0016\n",
      "Epoch 46/100\n",
      "23/23 [==============================] - 3s 132ms/step - loss: 2.7513e-04 - val_loss: 0.0052\n",
      "Epoch 47/100\n",
      "23/23 [==============================] - 3s 142ms/step - loss: 2.3736e-04 - val_loss: 0.0027\n",
      "Epoch 48/100\n",
      "23/23 [==============================] - 4s 162ms/step - loss: 2.1707e-04 - val_loss: 0.0022\n",
      "Epoch 49/100\n",
      "23/23 [==============================] - 4s 171ms/step - loss: 2.1953e-04 - val_loss: 0.0040\n",
      "Epoch 50/100\n",
      "23/23 [==============================] - 4s 178ms/step - loss: 2.5089e-04 - val_loss: 0.0080\n",
      "Epoch 51/100\n",
      "23/23 [==============================] - 4s 169ms/step - loss: 2.2120e-04 - val_loss: 0.0016\n",
      "Epoch 52/100\n",
      "23/23 [==============================] - 4s 171ms/step - loss: 2.1523e-04 - val_loss: 0.0020\n",
      "Epoch 53/100\n",
      "23/23 [==============================] - 4s 163ms/step - loss: 2.0208e-04 - val_loss: 6.6944e-04\n",
      "Epoch 54/100\n",
      "23/23 [==============================] - 4s 162ms/step - loss: 2.2434e-04 - val_loss: 0.0043\n",
      "Epoch 55/100\n",
      "23/23 [==============================] - 4s 190ms/step - loss: 2.2894e-04 - val_loss: 0.0022\n",
      "Epoch 56/100\n",
      "23/23 [==============================] - 6s 243ms/step - loss: 2.0063e-04 - val_loss: 0.0031\n",
      "Epoch 57/100\n",
      "23/23 [==============================] - 4s 179ms/step - loss: 1.8603e-04 - val_loss: 0.0034\n",
      "Epoch 58/100\n",
      "23/23 [==============================] - 4s 181ms/step - loss: 1.7919e-04 - val_loss: 0.0013\n",
      "Epoch 59/100\n",
      "23/23 [==============================] - 4s 172ms/step - loss: 2.1345e-04 - val_loss: 0.0025\n",
      "Epoch 60/100\n",
      "23/23 [==============================] - 4s 180ms/step - loss: 1.7260e-04 - val_loss: 0.0039\n",
      "Epoch 61/100\n",
      "23/23 [==============================] - 4s 175ms/step - loss: 1.6328e-04 - val_loss: 0.0014\n",
      "Epoch 62/100\n",
      "23/23 [==============================] - 4s 162ms/step - loss: 1.5940e-04 - val_loss: 0.0021\n",
      "Epoch 63/100\n",
      "23/23 [==============================] - 5s 205ms/step - loss: 1.5667e-04 - val_loss: 0.0015\n",
      "Epoch 64/100\n",
      "23/23 [==============================] - 5s 226ms/step - loss: 1.5357e-04 - val_loss: 0.0030\n",
      "Epoch 65/100\n",
      "23/23 [==============================] - 4s 175ms/step - loss: 1.6721e-04 - val_loss: 0.0033\n",
      "Epoch 66/100\n",
      "23/23 [==============================] - 3s 144ms/step - loss: 1.7395e-04 - val_loss: 0.0018\n",
      "Epoch 67/100\n",
      "23/23 [==============================] - 3s 140ms/step - loss: 1.5962e-04 - val_loss: 0.0019\n",
      "Epoch 68/100\n",
      "23/23 [==============================] - 3s 146ms/step - loss: 1.4639e-04 - val_loss: 0.0026\n",
      "Epoch 69/100\n",
      "23/23 [==============================] - 3s 151ms/step - loss: 1.4761e-04 - val_loss: 0.0011\n",
      "Epoch 70/100\n",
      "23/23 [==============================] - 4s 188ms/step - loss: 1.4087e-04 - val_loss: 0.0010\n",
      "Epoch 71/100\n",
      "23/23 [==============================] - 4s 172ms/step - loss: 1.5504e-04 - val_loss: 0.0019\n",
      "Epoch 72/100\n",
      "23/23 [==============================] - 4s 160ms/step - loss: 1.6241e-04 - val_loss: 0.0026\n",
      "Epoch 73/100\n",
      "23/23 [==============================] - 4s 160ms/step - loss: 1.4984e-04 - val_loss: 0.0012\n",
      "Epoch 74/100\n",
      "23/23 [==============================] - 3s 146ms/step - loss: 1.5148e-04 - val_loss: 0.0012\n",
      "Epoch 75/100\n",
      "23/23 [==============================] - 3s 130ms/step - loss: 1.4728e-04 - val_loss: 0.0024\n",
      "Epoch 76/100\n",
      "23/23 [==============================] - 3s 134ms/step - loss: 1.3839e-04 - val_loss: 0.0030\n",
      "Epoch 77/100\n",
      "23/23 [==============================] - 3s 149ms/step - loss: 1.4065e-04 - val_loss: 0.0014\n",
      "Epoch 78/100\n",
      "23/23 [==============================] - 3s 144ms/step - loss: 1.3727e-04 - val_loss: 0.0022\n",
      "Epoch 79/100\n",
      "23/23 [==============================] - 3s 147ms/step - loss: 1.3136e-04 - val_loss: 0.0016\n",
      "Epoch 80/100\n",
      "23/23 [==============================] - 4s 184ms/step - loss: 1.4455e-04 - val_loss: 0.0020\n",
      "Epoch 81/100\n",
      "23/23 [==============================] - 3s 147ms/step - loss: 1.3102e-04 - val_loss: 0.0022\n",
      "Epoch 82/100\n",
      "23/23 [==============================] - 3s 135ms/step - loss: 1.3743e-04 - val_loss: 0.0022\n",
      "Epoch 83/100\n",
      "23/23 [==============================] - 3s 151ms/step - loss: 1.5657e-04 - val_loss: 0.0032\n",
      "Epoch 84/100\n",
      "23/23 [==============================] - 3s 152ms/step - loss: 1.3581e-04 - val_loss: 0.0012\n",
      "Epoch 85/100\n",
      "23/23 [==============================] - 3s 147ms/step - loss: 1.3281e-04 - val_loss: 0.0015\n",
      "Epoch 86/100\n",
      "23/23 [==============================] - 3s 151ms/step - loss: 1.2827e-04 - val_loss: 0.0013\n",
      "Epoch 87/100\n",
      "23/23 [==============================] - 3s 148ms/step - loss: 1.3620e-04 - val_loss: 0.0011\n",
      "Epoch 88/100\n",
      "23/23 [==============================] - 3s 143ms/step - loss: 1.4879e-04 - val_loss: 0.0019\n",
      "Epoch 89/100\n",
      "23/23 [==============================] - 3s 145ms/step - loss: 1.4754e-04 - val_loss: 0.0023\n",
      "Epoch 90/100\n",
      "23/23 [==============================] - 3s 145ms/step - loss: 1.2756e-04 - val_loss: 0.0016\n",
      "Epoch 91/100\n",
      "23/23 [==============================] - 4s 157ms/step - loss: 1.3273e-04 - val_loss: 0.0015\n",
      "Epoch 92/100\n",
      "23/23 [==============================] - 3s 137ms/step - loss: 1.3145e-04 - val_loss: 0.0023\n",
      "Epoch 93/100\n",
      "23/23 [==============================] - 3s 136ms/step - loss: 1.2642e-04 - val_loss: 0.0013\n",
      "Epoch 94/100\n",
      "23/23 [==============================] - 3s 139ms/step - loss: 1.3415e-04 - val_loss: 0.0013\n",
      "Epoch 95/100\n",
      "23/23 [==============================] - 3s 140ms/step - loss: 1.2927e-04 - val_loss: 0.0022\n",
      "Epoch 96/100\n",
      "23/23 [==============================] - 3s 135ms/step - loss: 1.2807e-04 - val_loss: 0.0023\n",
      "Epoch 97/100\n",
      "23/23 [==============================] - 3s 146ms/step - loss: 1.5683e-04 - val_loss: 0.0016\n",
      "Epoch 98/100\n",
      "23/23 [==============================] - 3s 145ms/step - loss: 1.5226e-04 - val_loss: 0.0012\n",
      "Epoch 99/100\n",
      "23/23 [==============================] - 4s 159ms/step - loss: 1.5804e-04 - val_loss: 0.0029\n",
      "Epoch 100/100\n",
      "23/23 [==============================] - 3s 153ms/step - loss: 1.2766e-04 - val_loss: 0.0016\n"
     ]
    },
    {
     "data": {
      "text/plain": [
       "<keras.callbacks.History at 0x25b53ae51f0>"
      ]
     },
     "execution_count": 21,
     "metadata": {},
     "output_type": "execute_result"
    }
   ],
   "source": [
    "model.fit(x_train, y_train, validation_data = (x_test, y_test), epochs = 100, batch_size = 64, verbose = 1)"
   ]
  },
  {
   "cell_type": "markdown",
   "id": "3b18914a",
   "metadata": {},
   "source": [
    "# Prediction :"
   ]
  },
  {
   "cell_type": "code",
   "execution_count": 22,
   "id": "f40360d8",
   "metadata": {},
   "outputs": [
    {
     "name": "stdout",
     "output_type": "stream",
     "text": [
      "45/45 [==============================] - 3s 27ms/step\n",
      "13/13 [==============================] - 1s 46ms/step\n"
     ]
    }
   ],
   "source": [
    "#predict and check performance metrics\n",
    "train_predict = model.predict(x_train)\n",
    "test_predict = model.predict(x_test)"
   ]
  },
  {
   "cell_type": "code",
   "execution_count": 23,
   "id": "18ce210d",
   "metadata": {},
   "outputs": [],
   "source": [
    "#Transform back to original form\n",
    "train_predict = scaler.inverse_transform(train_predict)\n",
    "test_predict = scaler.inverse_transform(test_predict)"
   ]
  },
  {
   "cell_type": "code",
   "execution_count": 24,
   "id": "cb34d57f",
   "metadata": {},
   "outputs": [
    {
     "data": {
      "text/plain": [
       "133.42910387206223"
      ]
     },
     "execution_count": 24,
     "metadata": {},
     "output_type": "execute_result"
    }
   ],
   "source": [
    "#Calculate RMSE performance metrics\n",
    "math.sqrt(mean_squared_error(y_train, train_predict))"
   ]
  },
  {
   "cell_type": "code",
   "execution_count": 25,
   "id": "41dff5be",
   "metadata": {},
   "outputs": [
    {
     "data": {
      "text/plain": [
       "222.8405103122028"
      ]
     },
     "execution_count": 25,
     "metadata": {},
     "output_type": "execute_result"
    }
   ],
   "source": [
    "#Test Data RMSE\n",
    "math.sqrt(mean_squared_error(y_test, test_predict))"
   ]
  },
  {
   "cell_type": "code",
   "execution_count": 26,
   "id": "0df76912",
   "metadata": {},
   "outputs": [
    {
     "data": {
      "image/png": "[encoded data removed]",
      "text/plain": [
       "<Figure size 432x288 with 1 Axes>"
      ]
     },
     "metadata": {
      "needs_background": "light"
     },
     "output_type": "display_data"
    }
   ],
   "source": [
    "look_back =100\n",
    "\n",
    "train_df_plot = np.empty_like(df_close)\n",
    "train_df_plot[:,:]  = np.nan\n",
    "train_df_plot[look_back:len(train_predict)+look_back, :] = train_predict\n",
    "\n",
    "test_plot = np.empty_like(df_close)\n",
    "test_plot[:,:] = np.nan\n",
    "test_plot[len(train_predict)+(look_back*2)+1:len(df_close)-1, :] = test_predict\n",
    "\n",
    "plt.plot(scaler.inverse_transform(df_close))\n",
    "plt.plot(train_df_plot)\n",
    "plt.plot(test_plot)\n",
    "plt.show()"
   ]
  },
  {
   "cell_type": "markdown",
   "id": "07c84548",
   "metadata": {},
   "source": [
    "* Green indicates the Predicted Data\n",
    "* Blue indicates the Complete Data\n",
    "* Orange indicates the Train Data"
   ]
  },
  {
   "cell_type": "code",
   "execution_count": 27,
   "id": "6a731d3c",
   "metadata": {},
   "outputs": [
    {
     "data": {
      "text/plain": [
       "(509, (408, 100, 1))"
      ]
     },
     "execution_count": 27,
     "metadata": {},
     "output_type": "execute_result"
    }
   ],
   "source": [
    "#Predict the next 28 days Stock Price\n",
    "len(test_data), x_test.shape"
   ]
  },
  {
   "cell_type": "code",
   "execution_count": 31,
   "id": "4e6843a5",
   "metadata": {},
   "outputs": [
    {
     "data": {
      "text/plain": [
       "(1, 100)"
      ]
     },
     "execution_count": 31,
     "metadata": {},
     "output_type": "execute_result"
    }
   ],
   "source": [
    "x_input = test_data[409:].reshape(1,-1)\n",
    "x_input.shape"
   ]
  },
  {
   "cell_type": "code",
   "execution_count": 32,
   "id": "9a235d77",
   "metadata": {},
   "outputs": [
    {
     "name": "stdout",
     "output_type": "stream",
     "text": [
      "[0.6079093]\n",
      "101\n",
      "1 day input [0.86213235 0.83455882 0.84375    0.71466503 0.66053922 0.65420752\n",
      " 0.68035131 0.6689134  0.66421569 0.67892157 0.69138072 0.70894608\n",
      " 0.72263072 0.73406863 0.72120098 0.74979575 0.7689951  0.74468954\n",
      " 0.7120098  0.74673203 0.75490196 0.76041667 0.75980392 0.74652778\n",
      " 0.76245915 0.77062908 0.80412582 0.78104575 0.79411765 0.76021242\n",
      " 0.73488562 0.72406046 0.73999183 0.74979575 0.76143791 0.75428922\n",
      " 0.74754902 0.76960784 0.7495915  0.81719771 0.80208333 0.77736928\n",
      " 0.75714869 0.79370915 0.79166667 0.77144608 0.75265523 0.72691993\n",
      " 0.6629902  0.68198529 0.64419935 0.62152778 0.6439951  0.66319444\n",
      " 0.67544935 0.63705065 0.64603758 0.65890523 0.65870098 0.67790033\n",
      " 0.63194444 0.63112745 0.62785948 0.64767157 0.63991013 0.63480392\n",
      " 0.63868464 0.62336601 0.62745098 0.63970588 0.64705882 0.66196895\n",
      " 0.67075163 0.65196078 0.63112745 0.61294935 0.6376634  0.62254902\n",
      " 0.62745098 0.63337418 0.62642974 0.63623366 0.58312908 0.57781863\n",
      " 0.57230392 0.58006536 0.57618464 0.55167484 0.57883987 0.625\n",
      " 0.63582516 0.62949346 0.62888072 0.62765523 0.62234477 0.63378268\n",
      " 0.62622549 0.62214052 0.62418301 0.60790932]\n",
      "1 day output [[0.5795082]]\n",
      "2 day input [0.83455882 0.84375    0.71466503 0.66053922 0.65420752 0.68035131\n",
      " 0.6689134  0.66421569 0.67892157 0.69138072 0.70894608 0.72263072\n",
      " 0.73406863 0.72120098 0.74979575 0.7689951  0.74468954 0.7120098\n",
      " 0.74673203 0.75490196 0.76041667 0.75980392 0.74652778 0.76245915\n",
      " 0.77062908 0.80412582 0.78104575 0.79411765 0.76021242 0.73488562\n",
      " 0.72406046 0.73999183 0.74979575 0.76143791 0.75428922 0.74754902\n",
      " 0.76960784 0.7495915  0.81719771 0.80208333 0.77736928 0.75714869\n",
      " 0.79370915 0.79166667 0.77144608 0.75265523 0.72691993 0.6629902\n",
      " 0.68198529 0.64419935 0.62152778 0.6439951  0.66319444 0.67544935\n",
      " 0.63705065 0.64603758 0.65890523 0.65870098 0.67790033 0.63194444\n",
      " 0.63112745 0.62785948 0.64767157 0.63991013 0.63480392 0.63868464\n",
      " 0.62336601 0.62745098 0.63970588 0.64705882 0.66196895 0.67075163\n",
      " 0.65196078 0.63112745 0.61294935 0.6376634  0.62254902 0.62745098\n",
      " 0.63337418 0.62642974 0.63623366 0.58312908 0.57781863 0.57230392\n",
      " 0.58006536 0.57618464 0.55167484 0.57883987 0.625      0.63582516\n",
      " 0.62949346 0.62888072 0.62765523 0.62234477 0.63378268 0.62622549\n",
      " 0.62214052 0.62418301 0.60790932 0.57950819]\n",
      "2 day output [[0.5503568]]\n",
      "3 day input [0.84375    0.71466503 0.66053922 0.65420752 0.68035131 0.6689134\n",
      " 0.66421569 0.67892157 0.69138072 0.70894608 0.72263072 0.73406863\n",
      " 0.72120098 0.74979575 0.7689951  0.74468954 0.7120098  0.74673203\n",
      " 0.75490196 0.76041667 0.75980392 0.74652778 0.76245915 0.77062908\n",
      " 0.80412582 0.78104575 0.79411765 0.76021242 0.73488562 0.72406046\n",
      " 0.73999183 0.74979575 0.76143791 0.75428922 0.74754902 0.76960784\n",
      " 0.7495915  0.81719771 0.80208333 0.77736928 0.75714869 0.79370915\n",
      " 0.79166667 0.77144608 0.75265523 0.72691993 0.6629902  0.68198529\n",
      " 0.64419935 0.62152778 0.6439951  0.66319444 0.67544935 0.63705065\n",
      " 0.64603758 0.65890523 0.65870098 0.67790033 0.63194444 0.63112745\n",
      " 0.62785948 0.64767157 0.63991013 0.63480392 0.63868464 0.62336601\n",
      " 0.62745098 0.63970588 0.64705882 0.66196895 0.67075163 0.65196078\n",
      " 0.63112745 0.61294935 0.6376634  0.62254902 0.62745098 0.63337418\n",
      " 0.62642974 0.63623366 0.58312908 0.57781863 0.57230392 0.58006536\n",
      " 0.57618464 0.55167484 0.57883987 0.625      0.63582516 0.62949346\n",
      " 0.62888072 0.62765523 0.62234477 0.63378268 0.62622549 0.62214052\n",
      " 0.62418301 0.60790932 0.57950819 0.55035681]\n",
      "3 day output [[0.5255887]]\n",
      "4 day input [0.71466503 0.66053922 0.65420752 0.68035131 0.6689134  0.66421569\n",
      " 0.67892157 0.69138072 0.70894608 0.72263072 0.73406863 0.72120098\n",
      " 0.74979575 0.7689951  0.74468954 0.7120098  0.74673203 0.75490196\n",
      " 0.76041667 0.75980392 0.74652778 0.76245915 0.77062908 0.80412582\n",
      " 0.78104575 0.79411765 0.76021242 0.73488562 0.72406046 0.73999183\n",
      " 0.74979575 0.76143791 0.75428922 0.74754902 0.76960784 0.7495915\n",
      " 0.81719771 0.80208333 0.77736928 0.75714869 0.79370915 0.79166667\n",
      " 0.77144608 0.75265523 0.72691993 0.6629902  0.68198529 0.64419935\n",
      " 0.62152778 0.6439951  0.66319444 0.67544935 0.63705065 0.64603758\n",
      " 0.65890523 0.65870098 0.67790033 0.63194444 0.63112745 0.62785948\n",
      " 0.64767157 0.63991013 0.63480392 0.63868464 0.62336601 0.62745098\n",
      " 0.63970588 0.64705882 0.66196895 0.67075163 0.65196078 0.63112745\n",
      " 0.61294935 0.6376634  0.62254902 0.62745098 0.63337418 0.62642974\n",
      " 0.63623366 0.58312908 0.57781863 0.57230392 0.58006536 0.57618464\n",
      " 0.55167484 0.57883987 0.625      0.63582516 0.62949346 0.62888072\n",
      " 0.62765523 0.62234477 0.63378268 0.62622549 0.62214052 0.62418301\n",
      " 0.60790932 0.57950819 0.55035681 0.52558869]\n",
      "4 day output [[0.5053191]]\n",
      "5 day input [0.66053922 0.65420752 0.68035131 0.6689134  0.66421569 0.67892157\n",
      " 0.69138072 0.70894608 0.72263072 0.73406863 0.72120098 0.74979575\n",
      " 0.7689951  0.74468954 0.7120098  0.74673203 0.75490196 0.76041667\n",
      " 0.75980392 0.74652778 0.76245915 0.77062908 0.80412582 0.78104575\n",
      " 0.79411765 0.76021242 0.73488562 0.72406046 0.73999183 0.74979575\n",
      " 0.76143791 0.75428922 0.74754902 0.76960784 0.7495915  0.81719771\n",
      " 0.80208333 0.77736928 0.75714869 0.79370915 0.79166667 0.77144608\n",
      " 0.75265523 0.72691993 0.6629902  0.68198529 0.64419935 0.62152778\n",
      " 0.6439951  0.66319444 0.67544935 0.63705065 0.64603758 0.65890523\n",
      " 0.65870098 0.67790033 0.63194444 0.63112745 0.62785948 0.64767157\n",
      " 0.63991013 0.63480392 0.63868464 0.62336601 0.62745098 0.63970588\n",
      " 0.64705882 0.66196895 0.67075163 0.65196078 0.63112745 0.61294935\n",
      " 0.6376634  0.62254902 0.62745098 0.63337418 0.62642974 0.63623366\n",
      " 0.58312908 0.57781863 0.57230392 0.58006536 0.57618464 0.55167484\n",
      " 0.57883987 0.625      0.63582516 0.62949346 0.62888072 0.62765523\n",
      " 0.62234477 0.63378268 0.62622549 0.62214052 0.62418301 0.60790932\n",
      " 0.57950819 0.55035681 0.52558869 0.50531912]\n",
      "5 day output [[0.488715]]\n",
      "6 day input [0.65420752 0.68035131 0.6689134  0.66421569 0.67892157 0.69138072\n",
      " 0.70894608 0.72263072 0.73406863 0.72120098 0.74979575 0.7689951\n",
      " 0.74468954 0.7120098  0.74673203 0.75490196 0.76041667 0.75980392\n",
      " 0.74652778 0.76245915 0.77062908 0.80412582 0.78104575 0.79411765\n",
      " 0.76021242 0.73488562 0.72406046 0.73999183 0.74979575 0.76143791\n",
      " 0.75428922 0.74754902 0.76960784 0.7495915  0.81719771 0.80208333\n",
      " 0.77736928 0.75714869 0.79370915 0.79166667 0.77144608 0.75265523\n",
      " 0.72691993 0.6629902  0.68198529 0.64419935 0.62152778 0.6439951\n",
      " 0.66319444 0.67544935 0.63705065 0.64603758 0.65890523 0.65870098\n",
      " 0.67790033 0.63194444 0.63112745 0.62785948 0.64767157 0.63991013\n",
      " 0.63480392 0.63868464 0.62336601 0.62745098 0.63970588 0.64705882\n",
      " 0.66196895 0.67075163 0.65196078 0.63112745 0.61294935 0.6376634\n",
      " 0.62254902 0.62745098 0.63337418 0.62642974 0.63623366 0.58312908\n",
      " 0.57781863 0.57230392 0.58006536 0.57618464 0.55167484 0.57883987\n",
      " 0.625      0.63582516 0.62949346 0.62888072 0.62765523 0.62234477\n",
      " 0.63378268 0.62622549 0.62214052 0.62418301 0.60790932 0.57950819\n",
      " 0.55035681 0.52558869 0.50531912 0.48871499]\n",
      "6 day output [[0.47531497]]\n",
      "7 day input [0.68035131 0.6689134  0.66421569 0.67892157 0.69138072 0.70894608\n",
      " 0.72263072 0.73406863 0.72120098 0.74979575 0.7689951  0.74468954\n",
      " 0.7120098  0.74673203 0.75490196 0.76041667 0.75980392 0.74652778\n",
      " 0.76245915 0.77062908 0.80412582 0.78104575 0.79411765 0.76021242\n",
      " 0.73488562 0.72406046 0.73999183 0.74979575 0.76143791 0.75428922\n",
      " 0.74754902 0.76960784 0.7495915  0.81719771 0.80208333 0.77736928\n",
      " 0.75714869 0.79370915 0.79166667 0.77144608 0.75265523 0.72691993\n",
      " 0.6629902  0.68198529 0.64419935 0.62152778 0.6439951  0.66319444\n",
      " 0.67544935 0.63705065 0.64603758 0.65890523 0.65870098 0.67790033\n",
      " 0.63194444 0.63112745 0.62785948 0.64767157 0.63991013 0.63480392\n",
      " 0.63868464 0.62336601 0.62745098 0.63970588 0.64705882 0.66196895\n",
      " 0.67075163 0.65196078 0.63112745 0.61294935 0.6376634  0.62254902\n",
      " 0.62745098 0.63337418 0.62642974 0.63623366 0.58312908 0.57781863\n",
      " 0.57230392 0.58006536 0.57618464 0.55167484 0.57883987 0.625\n",
      " 0.63582516 0.62949346 0.62888072 0.62765523 0.62234477 0.63378268\n",
      " 0.62622549 0.62214052 0.62418301 0.60790932 0.57950819 0.55035681\n",
      " 0.52558869 0.50531912 0.48871499 0.47531497]\n",
      "7 day output [[0.4647773]]\n",
      "8 day input [0.6689134  0.66421569 0.67892157 0.69138072 0.70894608 0.72263072\n",
      " 0.73406863 0.72120098 0.74979575 0.7689951  0.74468954 0.7120098\n",
      " 0.74673203 0.75490196 0.76041667 0.75980392 0.74652778 0.76245915\n",
      " 0.77062908 0.80412582 0.78104575 0.79411765 0.76021242 0.73488562\n",
      " 0.72406046 0.73999183 0.74979575 0.76143791 0.75428922 0.74754902\n",
      " 0.76960784 0.7495915  0.81719771 0.80208333 0.77736928 0.75714869\n",
      " 0.79370915 0.79166667 0.77144608 0.75265523 0.72691993 0.6629902\n",
      " 0.68198529 0.64419935 0.62152778 0.6439951  0.66319444 0.67544935\n",
      " 0.63705065 0.64603758 0.65890523 0.65870098 0.67790033 0.63194444\n",
      " 0.63112745 0.62785948 0.64767157 0.63991013 0.63480392 0.63868464\n",
      " 0.62336601 0.62745098 0.63970588 0.64705882 0.66196895 0.67075163\n",
      " 0.65196078 0.63112745 0.61294935 0.6376634  0.62254902 0.62745098\n",
      " 0.63337418 0.62642974 0.63623366 0.58312908 0.57781863 0.57230392\n",
      " 0.58006536 0.57618464 0.55167484 0.57883987 0.625      0.63582516\n",
      " 0.62949346 0.62888072 0.62765523 0.62234477 0.63378268 0.62622549\n",
      " 0.62214052 0.62418301 0.60790932 0.57950819 0.55035681 0.52558869\n",
      " 0.50531912 0.48871499 0.47531497 0.46477729]\n",
      "8 day output [[0.4567153]]\n",
      "9 day input [0.66421569 0.67892157 0.69138072 0.70894608 0.72263072 0.73406863\n",
      " 0.72120098 0.74979575 0.7689951  0.74468954 0.7120098  0.74673203\n",
      " 0.75490196 0.76041667 0.75980392 0.74652778 0.76245915 0.77062908\n",
      " 0.80412582 0.78104575 0.79411765 0.76021242 0.73488562 0.72406046\n",
      " 0.73999183 0.74979575 0.76143791 0.75428922 0.74754902 0.76960784\n",
      " 0.7495915  0.81719771 0.80208333 0.77736928 0.75714869 0.79370915\n",
      " 0.79166667 0.77144608 0.75265523 0.72691993 0.6629902  0.68198529\n",
      " 0.64419935 0.62152778 0.6439951  0.66319444 0.67544935 0.63705065\n",
      " 0.64603758 0.65890523 0.65870098 0.67790033 0.63194444 0.63112745\n",
      " 0.62785948 0.64767157 0.63991013 0.63480392 0.63868464 0.62336601\n",
      " 0.62745098 0.63970588 0.64705882 0.66196895 0.67075163 0.65196078\n",
      " 0.63112745 0.61294935 0.6376634  0.62254902 0.62745098 0.63337418\n",
      " 0.62642974 0.63623366 0.58312908 0.57781863 0.57230392 0.58006536\n",
      " 0.57618464 0.55167484 0.57883987 0.625      0.63582516 0.62949346\n",
      " 0.62888072 0.62765523 0.62234477 0.63378268 0.62622549 0.62214052\n",
      " 0.62418301 0.60790932 0.57950819 0.55035681 0.52558869 0.50531912\n",
      " 0.48871499 0.47531497 0.46477729 0.45671529]\n",
      "9 day output [[0.4506904]]\n",
      "10 day input [0.67892157 0.69138072 0.70894608 0.72263072 0.73406863 0.72120098\n",
      " 0.74979575 0.7689951  0.74468954 0.7120098  0.74673203 0.75490196\n",
      " 0.76041667 0.75980392 0.74652778 0.76245915 0.77062908 0.80412582\n",
      " 0.78104575 0.79411765 0.76021242 0.73488562 0.72406046 0.73999183\n",
      " 0.74979575 0.76143791 0.75428922 0.74754902 0.76960784 0.7495915\n",
      " 0.81719771 0.80208333 0.77736928 0.75714869 0.79370915 0.79166667\n",
      " 0.77144608 0.75265523 0.72691993 0.6629902  0.68198529 0.64419935\n",
      " 0.62152778 0.6439951  0.66319444 0.67544935 0.63705065 0.64603758\n",
      " 0.65890523 0.65870098 0.67790033 0.63194444 0.63112745 0.62785948\n",
      " 0.64767157 0.63991013 0.63480392 0.63868464 0.62336601 0.62745098\n",
      " 0.63970588 0.64705882 0.66196895 0.67075163 0.65196078 0.63112745\n",
      " 0.61294935 0.6376634  0.62254902 0.62745098 0.63337418 0.62642974\n",
      " 0.63623366 0.58312908 0.57781863 0.57230392 0.58006536 0.57618464\n",
      " 0.55167484 0.57883987 0.625      0.63582516 0.62949346 0.62888072\n",
      " 0.62765523 0.62234477 0.63378268 0.62622549 0.62214052 0.62418301\n",
      " 0.60790932 0.57950819 0.55035681 0.52558869 0.50531912 0.48871499\n",
      " 0.47531497 0.46477729 0.45671529 0.45069039]\n",
      "10 day output [[0.4462587]]\n",
      "11 day input [0.69138072 0.70894608 0.72263072 0.73406863 0.72120098 0.74979575\n",
      " 0.7689951  0.74468954 0.7120098  0.74673203 0.75490196 0.76041667\n",
      " 0.75980392 0.74652778 0.76245915 0.77062908 0.80412582 0.78104575\n",
      " 0.79411765 0.76021242 0.73488562 0.72406046 0.73999183 0.74979575\n",
      " 0.76143791 0.75428922 0.74754902 0.76960784 0.7495915  0.81719771\n",
      " 0.80208333 0.77736928 0.75714869 0.79370915 0.79166667 0.77144608\n",
      " 0.75265523 0.72691993 0.6629902  0.68198529 0.64419935 0.62152778\n",
      " 0.6439951  0.66319444 0.67544935 0.63705065 0.64603758 0.65890523\n",
      " 0.65870098 0.67790033 0.63194444 0.63112745 0.62785948 0.64767157\n",
      " 0.63991013 0.63480392 0.63868464 0.62336601 0.62745098 0.63970588\n",
      " 0.64705882 0.66196895 0.67075163 0.65196078 0.63112745 0.61294935\n",
      " 0.6376634  0.62254902 0.62745098 0.63337418 0.62642974 0.63623366\n",
      " 0.58312908 0.57781863 0.57230392 0.58006536 0.57618464 0.55167484\n",
      " 0.57883987 0.625      0.63582516 0.62949346 0.62888072 0.62765523\n",
      " 0.62234477 0.63378268 0.62622549 0.62214052 0.62418301 0.60790932\n",
      " 0.57950819 0.55035681 0.52558869 0.50531912 0.48871499 0.47531497\n",
      " 0.46477729 0.45671529 0.45069039 0.44625869]\n",
      "11 day output [[0.44300964]]\n",
      "12 day input [0.70894608 0.72263072 0.73406863 0.72120098 0.74979575 0.7689951\n",
      " 0.74468954 0.7120098  0.74673203 0.75490196 0.76041667 0.75980392\n",
      " 0.74652778 0.76245915 0.77062908 0.80412582 0.78104575 0.79411765\n",
      " 0.76021242 0.73488562 0.72406046 0.73999183 0.74979575 0.76143791\n",
      " 0.75428922 0.74754902 0.76960784 0.7495915  0.81719771 0.80208333\n",
      " 0.77736928 0.75714869 0.79370915 0.79166667 0.77144608 0.75265523\n",
      " 0.72691993 0.6629902  0.68198529 0.64419935 0.62152778 0.6439951\n",
      " 0.66319444 0.67544935 0.63705065 0.64603758 0.65890523 0.65870098\n",
      " 0.67790033 0.63194444 0.63112745 0.62785948 0.64767157 0.63991013\n",
      " 0.63480392 0.63868464 0.62336601 0.62745098 0.63970588 0.64705882\n",
      " 0.66196895 0.67075163 0.65196078 0.63112745 0.61294935 0.6376634\n",
      " 0.62254902 0.62745098 0.63337418 0.62642974 0.63623366 0.58312908\n",
      " 0.57781863 0.57230392 0.58006536 0.57618464 0.55167484 0.57883987\n",
      " 0.625      0.63582516 0.62949346 0.62888072 0.62765523 0.62234477\n",
      " 0.63378268 0.62622549 0.62214052 0.62418301 0.60790932 0.57950819\n",
      " 0.55035681 0.52558869 0.50531912 0.48871499 0.47531497 0.46477729\n",
      " 0.45671529 0.45069039 0.44625869 0.44300964]\n",
      "12 day output [[0.4405871]]\n",
      "13 day input [0.72263072 0.73406863 0.72120098 0.74979575 0.7689951  0.74468954\n",
      " 0.7120098  0.74673203 0.75490196 0.76041667 0.75980392 0.74652778\n",
      " 0.76245915 0.77062908 0.80412582 0.78104575 0.79411765 0.76021242\n",
      " 0.73488562 0.72406046 0.73999183 0.74979575 0.76143791 0.75428922\n",
      " 0.74754902 0.76960784 0.7495915  0.81719771 0.80208333 0.77736928\n",
      " 0.75714869 0.79370915 0.79166667 0.77144608 0.75265523 0.72691993\n",
      " 0.6629902  0.68198529 0.64419935 0.62152778 0.6439951  0.66319444\n",
      " 0.67544935 0.63705065 0.64603758 0.65890523 0.65870098 0.67790033\n",
      " 0.63194444 0.63112745 0.62785948 0.64767157 0.63991013 0.63480392\n",
      " 0.63868464 0.62336601 0.62745098 0.63970588 0.64705882 0.66196895\n",
      " 0.67075163 0.65196078 0.63112745 0.61294935 0.6376634  0.62254902\n",
      " 0.62745098 0.63337418 0.62642974 0.63623366 0.58312908 0.57781863\n",
      " 0.57230392 0.58006536 0.57618464 0.55167484 0.57883987 0.625\n",
      " 0.63582516 0.62949346 0.62888072 0.62765523 0.62234477 0.63378268\n",
      " 0.62622549 0.62214052 0.62418301 0.60790932 0.57950819 0.55035681\n",
      " 0.52558869 0.50531912 0.48871499 0.47531497 0.46477729 0.45671529\n",
      " 0.45069039 0.44625869 0.44300964 0.4405871 ]\n",
      "13 day output [[0.4386979]]\n",
      "14 day input [0.73406863 0.72120098 0.74979575 0.7689951  0.74468954 0.7120098\n",
      " 0.74673203 0.75490196 0.76041667 0.75980392 0.74652778 0.76245915\n",
      " 0.77062908 0.80412582 0.78104575 0.79411765 0.76021242 0.73488562\n",
      " 0.72406046 0.73999183 0.74979575 0.76143791 0.75428922 0.74754902\n",
      " 0.76960784 0.7495915  0.81719771 0.80208333 0.77736928 0.75714869\n",
      " 0.79370915 0.79166667 0.77144608 0.75265523 0.72691993 0.6629902\n",
      " 0.68198529 0.64419935 0.62152778 0.6439951  0.66319444 0.67544935\n",
      " 0.63705065 0.64603758 0.65890523 0.65870098 0.67790033 0.63194444\n",
      " 0.63112745 0.62785948 0.64767157 0.63991013 0.63480392 0.63868464\n",
      " 0.62336601 0.62745098 0.63970588 0.64705882 0.66196895 0.67075163\n",
      " 0.65196078 0.63112745 0.61294935 0.6376634  0.62254902 0.62745098\n",
      " 0.63337418 0.62642974 0.63623366 0.58312908 0.57781863 0.57230392\n",
      " 0.58006536 0.57618464 0.55167484 0.57883987 0.625      0.63582516\n",
      " 0.62949346 0.62888072 0.62765523 0.62234477 0.63378268 0.62622549\n",
      " 0.62214052 0.62418301 0.60790932 0.57950819 0.55035681 0.52558869\n",
      " 0.50531912 0.48871499 0.47531497 0.46477729 0.45671529 0.45069039\n",
      " 0.44625869 0.44300964 0.4405871  0.4386979 ]\n",
      "14 day output [[0.43711263]]\n",
      "15 day input [0.72120098 0.74979575 0.7689951  0.74468954 0.7120098  0.74673203\n",
      " 0.75490196 0.76041667 0.75980392 0.74652778 0.76245915 0.77062908\n",
      " 0.80412582 0.78104575 0.79411765 0.76021242 0.73488562 0.72406046\n",
      " 0.73999183 0.74979575 0.76143791 0.75428922 0.74754902 0.76960784\n",
      " 0.7495915  0.81719771 0.80208333 0.77736928 0.75714869 0.79370915\n",
      " 0.79166667 0.77144608 0.75265523 0.72691993 0.6629902  0.68198529\n",
      " 0.64419935 0.62152778 0.6439951  0.66319444 0.67544935 0.63705065\n",
      " 0.64603758 0.65890523 0.65870098 0.67790033 0.63194444 0.63112745\n",
      " 0.62785948 0.64767157 0.63991013 0.63480392 0.63868464 0.62336601\n",
      " 0.62745098 0.63970588 0.64705882 0.66196895 0.67075163 0.65196078\n",
      " 0.63112745 0.61294935 0.6376634  0.62254902 0.62745098 0.63337418\n",
      " 0.62642974 0.63623366 0.58312908 0.57781863 0.57230392 0.58006536\n",
      " 0.57618464 0.55167484 0.57883987 0.625      0.63582516 0.62949346\n",
      " 0.62888072 0.62765523 0.62234477 0.63378268 0.62622549 0.62214052\n",
      " 0.62418301 0.60790932 0.57950819 0.55035681 0.52558869 0.50531912\n",
      " 0.48871499 0.47531497 0.46477729 0.45671529 0.45069039 0.44625869\n",
      " 0.44300964 0.4405871  0.4386979  0.43711263]\n",
      "15 day output [[0.43566117]]\n",
      "16 day input [0.74979575 0.7689951  0.74468954 0.7120098  0.74673203 0.75490196\n",
      " 0.76041667 0.75980392 0.74652778 0.76245915 0.77062908 0.80412582\n",
      " 0.78104575 0.79411765 0.76021242 0.73488562 0.72406046 0.73999183\n",
      " 0.74979575 0.76143791 0.75428922 0.74754902 0.76960784 0.7495915\n",
      " 0.81719771 0.80208333 0.77736928 0.75714869 0.79370915 0.79166667\n",
      " 0.77144608 0.75265523 0.72691993 0.6629902  0.68198529 0.64419935\n",
      " 0.62152778 0.6439951  0.66319444 0.67544935 0.63705065 0.64603758\n",
      " 0.65890523 0.65870098 0.67790033 0.63194444 0.63112745 0.62785948\n",
      " 0.64767157 0.63991013 0.63480392 0.63868464 0.62336601 0.62745098\n",
      " 0.63970588 0.64705882 0.66196895 0.67075163 0.65196078 0.63112745\n",
      " 0.61294935 0.6376634  0.62254902 0.62745098 0.63337418 0.62642974\n",
      " 0.63623366 0.58312908 0.57781863 0.57230392 0.58006536 0.57618464\n",
      " 0.55167484 0.57883987 0.625      0.63582516 0.62949346 0.62888072\n",
      " 0.62765523 0.62234477 0.63378268 0.62622549 0.62214052 0.62418301\n",
      " 0.60790932 0.57950819 0.55035681 0.52558869 0.50531912 0.48871499\n",
      " 0.47531497 0.46477729 0.45671529 0.45069039 0.44625869 0.44300964\n",
      " 0.4405871  0.4386979  0.43711263 0.43566117]\n",
      "16 day output [[0.43422556]]\n",
      "17 day input [0.7689951  0.74468954 0.7120098  0.74673203 0.75490196 0.76041667\n",
      " 0.75980392 0.74652778 0.76245915 0.77062908 0.80412582 0.78104575\n",
      " 0.79411765 0.76021242 0.73488562 0.72406046 0.73999183 0.74979575\n",
      " 0.76143791 0.75428922 0.74754902 0.76960784 0.7495915  0.81719771\n",
      " 0.80208333 0.77736928 0.75714869 0.79370915 0.79166667 0.77144608\n",
      " 0.75265523 0.72691993 0.6629902  0.68198529 0.64419935 0.62152778\n",
      " 0.6439951  0.66319444 0.67544935 0.63705065 0.64603758 0.65890523\n",
      " 0.65870098 0.67790033 0.63194444 0.63112745 0.62785948 0.64767157\n",
      " 0.63991013 0.63480392 0.63868464 0.62336601 0.62745098 0.63970588\n",
      " 0.64705882 0.66196895 0.67075163 0.65196078 0.63112745 0.61294935\n",
      " 0.6376634  0.62254902 0.62745098 0.63337418 0.62642974 0.63623366\n",
      " 0.58312908 0.57781863 0.57230392 0.58006536 0.57618464 0.55167484\n",
      " 0.57883987 0.625      0.63582516 0.62949346 0.62888072 0.62765523\n",
      " 0.62234477 0.63378268 0.62622549 0.62214052 0.62418301 0.60790932\n",
      " 0.57950819 0.55035681 0.52558869 0.50531912 0.48871499 0.47531497\n",
      " 0.46477729 0.45671529 0.45069039 0.44625869 0.44300964 0.4405871\n",
      " 0.4386979  0.43711263 0.43566117 0.43422556]\n",
      "17 day output [[0.43273154]]\n",
      "18 day input [0.74468954 0.7120098  0.74673203 0.75490196 0.76041667 0.75980392\n",
      " 0.74652778 0.76245915 0.77062908 0.80412582 0.78104575 0.79411765\n",
      " 0.76021242 0.73488562 0.72406046 0.73999183 0.74979575 0.76143791\n",
      " 0.75428922 0.74754902 0.76960784 0.7495915  0.81719771 0.80208333\n",
      " 0.77736928 0.75714869 0.79370915 0.79166667 0.77144608 0.75265523\n",
      " 0.72691993 0.6629902  0.68198529 0.64419935 0.62152778 0.6439951\n",
      " 0.66319444 0.67544935 0.63705065 0.64603758 0.65890523 0.65870098\n",
      " 0.67790033 0.63194444 0.63112745 0.62785948 0.64767157 0.63991013\n",
      " 0.63480392 0.63868464 0.62336601 0.62745098 0.63970588 0.64705882\n",
      " 0.66196895 0.67075163 0.65196078 0.63112745 0.61294935 0.6376634\n",
      " 0.62254902 0.62745098 0.63337418 0.62642974 0.63623366 0.58312908\n",
      " 0.57781863 0.57230392 0.58006536 0.57618464 0.55167484 0.57883987\n",
      " 0.625      0.63582516 0.62949346 0.62888072 0.62765523 0.62234477\n",
      " 0.63378268 0.62622549 0.62214052 0.62418301 0.60790932 0.57950819\n",
      " 0.55035681 0.52558869 0.50531912 0.48871499 0.47531497 0.46477729\n",
      " 0.45671529 0.45069039 0.44625869 0.44300964 0.4405871  0.4386979\n",
      " 0.43711263 0.43566117 0.43422556 0.43273154]\n",
      "18 day output [[0.4311395]]\n",
      "19 day input [0.7120098  0.74673203 0.75490196 0.76041667 0.75980392 0.74652778\n",
      " 0.76245915 0.77062908 0.80412582 0.78104575 0.79411765 0.76021242\n",
      " 0.73488562 0.72406046 0.73999183 0.74979575 0.76143791 0.75428922\n",
      " 0.74754902 0.76960784 0.7495915  0.81719771 0.80208333 0.77736928\n",
      " 0.75714869 0.79370915 0.79166667 0.77144608 0.75265523 0.72691993\n",
      " 0.6629902  0.68198529 0.64419935 0.62152778 0.6439951  0.66319444\n",
      " 0.67544935 0.63705065 0.64603758 0.65890523 0.65870098 0.67790033\n",
      " 0.63194444 0.63112745 0.62785948 0.64767157 0.63991013 0.63480392\n",
      " 0.63868464 0.62336601 0.62745098 0.63970588 0.64705882 0.66196895\n",
      " 0.67075163 0.65196078 0.63112745 0.61294935 0.6376634  0.62254902\n",
      " 0.62745098 0.63337418 0.62642974 0.63623366 0.58312908 0.57781863\n",
      " 0.57230392 0.58006536 0.57618464 0.55167484 0.57883987 0.625\n",
      " 0.63582516 0.62949346 0.62888072 0.62765523 0.62234477 0.63378268\n",
      " 0.62622549 0.62214052 0.62418301 0.60790932 0.57950819 0.55035681\n",
      " 0.52558869 0.50531912 0.48871499 0.47531497 0.46477729 0.45671529\n",
      " 0.45069039 0.44625869 0.44300964 0.4405871  0.4386979  0.43711263\n",
      " 0.43566117 0.43422556 0.43273154 0.4311395 ]\n",
      "19 day output [[0.42943618]]\n",
      "20 day input [0.74673203 0.75490196 0.76041667 0.75980392 0.74652778 0.76245915\n",
      " 0.77062908 0.80412582 0.78104575 0.79411765 0.76021242 0.73488562\n",
      " 0.72406046 0.73999183 0.74979575 0.76143791 0.75428922 0.74754902\n",
      " 0.76960784 0.7495915  0.81719771 0.80208333 0.77736928 0.75714869\n",
      " 0.79370915 0.79166667 0.77144608 0.75265523 0.72691993 0.6629902\n",
      " 0.68198529 0.64419935 0.62152778 0.6439951  0.66319444 0.67544935\n",
      " 0.63705065 0.64603758 0.65890523 0.65870098 0.67790033 0.63194444\n",
      " 0.63112745 0.62785948 0.64767157 0.63991013 0.63480392 0.63868464\n",
      " 0.62336601 0.62745098 0.63970588 0.64705882 0.66196895 0.67075163\n",
      " 0.65196078 0.63112745 0.61294935 0.6376634  0.62254902 0.62745098\n",
      " 0.63337418 0.62642974 0.63623366 0.58312908 0.57781863 0.57230392\n",
      " 0.58006536 0.57618464 0.55167484 0.57883987 0.625      0.63582516\n",
      " 0.62949346 0.62888072 0.62765523 0.62234477 0.63378268 0.62622549\n",
      " 0.62214052 0.62418301 0.60790932 0.57950819 0.55035681 0.52558869\n",
      " 0.50531912 0.48871499 0.47531497 0.46477729 0.45671529 0.45069039\n",
      " 0.44625869 0.44300964 0.4405871  0.4386979  0.43711263 0.43566117\n",
      " 0.43422556 0.43273154 0.4311395  0.42943618]\n",
      "20 day output [[0.427627]]\n",
      "21 day input [0.75490196 0.76041667 0.75980392 0.74652778 0.76245915 0.77062908\n",
      " 0.80412582 0.78104575 0.79411765 0.76021242 0.73488562 0.72406046\n",
      " 0.73999183 0.74979575 0.76143791 0.75428922 0.74754902 0.76960784\n",
      " 0.7495915  0.81719771 0.80208333 0.77736928 0.75714869 0.79370915\n",
      " 0.79166667 0.77144608 0.75265523 0.72691993 0.6629902  0.68198529\n",
      " 0.64419935 0.62152778 0.6439951  0.66319444 0.67544935 0.63705065\n",
      " 0.64603758 0.65890523 0.65870098 0.67790033 0.63194444 0.63112745\n",
      " 0.62785948 0.64767157 0.63991013 0.63480392 0.63868464 0.62336601\n",
      " 0.62745098 0.63970588 0.64705882 0.66196895 0.67075163 0.65196078\n",
      " 0.63112745 0.61294935 0.6376634  0.62254902 0.62745098 0.63337418\n",
      " 0.62642974 0.63623366 0.58312908 0.57781863 0.57230392 0.58006536\n",
      " 0.57618464 0.55167484 0.57883987 0.625      0.63582516 0.62949346\n",
      " 0.62888072 0.62765523 0.62234477 0.63378268 0.62622549 0.62214052\n",
      " 0.62418301 0.60790932 0.57950819 0.55035681 0.52558869 0.50531912\n",
      " 0.48871499 0.47531497 0.46477729 0.45671529 0.45069039 0.44625869\n",
      " 0.44300964 0.4405871  0.4386979  0.43711263 0.43566117 0.43422556\n",
      " 0.43273154 0.4311395  0.42943618 0.427627  ]\n",
      "21 day output [[0.42572895]]\n",
      "22 day input [0.76041667 0.75980392 0.74652778 0.76245915 0.77062908 0.80412582\n",
      " 0.78104575 0.79411765 0.76021242 0.73488562 0.72406046 0.73999183\n",
      " 0.74979575 0.76143791 0.75428922 0.74754902 0.76960784 0.7495915\n",
      " 0.81719771 0.80208333 0.77736928 0.75714869 0.79370915 0.79166667\n",
      " 0.77144608 0.75265523 0.72691993 0.6629902  0.68198529 0.64419935\n",
      " 0.62152778 0.6439951  0.66319444 0.67544935 0.63705065 0.64603758\n",
      " 0.65890523 0.65870098 0.67790033 0.63194444 0.63112745 0.62785948\n",
      " 0.64767157 0.63991013 0.63480392 0.63868464 0.62336601 0.62745098\n",
      " 0.63970588 0.64705882 0.66196895 0.67075163 0.65196078 0.63112745\n",
      " 0.61294935 0.6376634  0.62254902 0.62745098 0.63337418 0.62642974\n",
      " 0.63623366 0.58312908 0.57781863 0.57230392 0.58006536 0.57618464\n",
      " 0.55167484 0.57883987 0.625      0.63582516 0.62949346 0.62888072\n",
      " 0.62765523 0.62234477 0.63378268 0.62622549 0.62214052 0.62418301\n",
      " 0.60790932 0.57950819 0.55035681 0.52558869 0.50531912 0.48871499\n",
      " 0.47531497 0.46477729 0.45671529 0.45069039 0.44625869 0.44300964\n",
      " 0.4405871  0.4386979  0.43711263 0.43566117 0.43422556 0.43273154\n",
      " 0.4311395  0.42943618 0.427627   0.42572895]\n",
      "22 day output [[0.42376596]]\n",
      "23 day input [0.75980392 0.74652778 0.76245915 0.77062908 0.80412582 0.78104575\n",
      " 0.79411765 0.76021242 0.73488562 0.72406046 0.73999183 0.74979575\n",
      " 0.76143791 0.75428922 0.74754902 0.76960784 0.7495915  0.81719771\n",
      " 0.80208333 0.77736928 0.75714869 0.79370915 0.79166667 0.77144608\n",
      " 0.75265523 0.72691993 0.6629902  0.68198529 0.64419935 0.62152778\n",
      " 0.6439951  0.66319444 0.67544935 0.63705065 0.64603758 0.65890523\n",
      " 0.65870098 0.67790033 0.63194444 0.63112745 0.62785948 0.64767157\n",
      " 0.63991013 0.63480392 0.63868464 0.62336601 0.62745098 0.63970588\n",
      " 0.64705882 0.66196895 0.67075163 0.65196078 0.63112745 0.61294935\n",
      " 0.6376634  0.62254902 0.62745098 0.63337418 0.62642974 0.63623366\n",
      " 0.58312908 0.57781863 0.57230392 0.58006536 0.57618464 0.55167484\n",
      " 0.57883987 0.625      0.63582516 0.62949346 0.62888072 0.62765523\n",
      " 0.62234477 0.63378268 0.62622549 0.62214052 0.62418301 0.60790932\n",
      " 0.57950819 0.55035681 0.52558869 0.50531912 0.48871499 0.47531497\n",
      " 0.46477729 0.45671529 0.45069039 0.44625869 0.44300964 0.4405871\n",
      " 0.4386979  0.43711263 0.43566117 0.43422556 0.43273154 0.4311395\n",
      " 0.42943618 0.427627   0.42572895 0.42376596]\n",
      "23 day output [[0.42176384]]\n",
      "24 day input [0.74652778 0.76245915 0.77062908 0.80412582 0.78104575 0.79411765\n",
      " 0.76021242 0.73488562 0.72406046 0.73999183 0.74979575 0.76143791\n",
      " 0.75428922 0.74754902 0.76960784 0.7495915  0.81719771 0.80208333\n",
      " 0.77736928 0.75714869 0.79370915 0.79166667 0.77144608 0.75265523\n",
      " 0.72691993 0.6629902  0.68198529 0.64419935 0.62152778 0.6439951\n",
      " 0.66319444 0.67544935 0.63705065 0.64603758 0.65890523 0.65870098\n",
      " 0.67790033 0.63194444 0.63112745 0.62785948 0.64767157 0.63991013\n",
      " 0.63480392 0.63868464 0.62336601 0.62745098 0.63970588 0.64705882\n",
      " 0.66196895 0.67075163 0.65196078 0.63112745 0.61294935 0.6376634\n",
      " 0.62254902 0.62745098 0.63337418 0.62642974 0.63623366 0.58312908\n",
      " 0.57781863 0.57230392 0.58006536 0.57618464 0.55167484 0.57883987\n",
      " 0.625      0.63582516 0.62949346 0.62888072 0.62765523 0.62234477\n",
      " 0.63378268 0.62622549 0.62214052 0.62418301 0.60790932 0.57950819\n",
      " 0.55035681 0.52558869 0.50531912 0.48871499 0.47531497 0.46477729\n",
      " 0.45671529 0.45069039 0.44625869 0.44300964 0.4405871  0.4386979\n",
      " 0.43711263 0.43566117 0.43422556 0.43273154 0.4311395  0.42943618\n",
      " 0.427627   0.42572895 0.42376596 0.42176384]\n",
      "24 day output [[0.41974804]]\n",
      "25 day input [0.76245915 0.77062908 0.80412582 0.78104575 0.79411765 0.76021242\n",
      " 0.73488562 0.72406046 0.73999183 0.74979575 0.76143791 0.75428922\n",
      " 0.74754902 0.76960784 0.7495915  0.81719771 0.80208333 0.77736928\n",
      " 0.75714869 0.79370915 0.79166667 0.77144608 0.75265523 0.72691993\n",
      " 0.6629902  0.68198529 0.64419935 0.62152778 0.6439951  0.66319444\n",
      " 0.67544935 0.63705065 0.64603758 0.65890523 0.65870098 0.67790033\n",
      " 0.63194444 0.63112745 0.62785948 0.64767157 0.63991013 0.63480392\n",
      " 0.63868464 0.62336601 0.62745098 0.63970588 0.64705882 0.66196895\n",
      " 0.67075163 0.65196078 0.63112745 0.61294935 0.6376634  0.62254902\n",
      " 0.62745098 0.63337418 0.62642974 0.63623366 0.58312908 0.57781863\n",
      " 0.57230392 0.58006536 0.57618464 0.55167484 0.57883987 0.625\n",
      " 0.63582516 0.62949346 0.62888072 0.62765523 0.62234477 0.63378268\n",
      " 0.62622549 0.62214052 0.62418301 0.60790932 0.57950819 0.55035681\n",
      " 0.52558869 0.50531912 0.48871499 0.47531497 0.46477729 0.45671529\n",
      " 0.45069039 0.44625869 0.44300964 0.4405871  0.4386979  0.43711263\n",
      " 0.43566117 0.43422556 0.43273154 0.4311395  0.42943618 0.427627\n",
      " 0.42572895 0.42376596 0.42176384 0.41974804]\n",
      "25 day output [[0.41774094]]\n",
      "26 day input [0.77062908 0.80412582 0.78104575 0.79411765 0.76021242 0.73488562\n",
      " 0.72406046 0.73999183 0.74979575 0.76143791 0.75428922 0.74754902\n",
      " 0.76960784 0.7495915  0.81719771 0.80208333 0.77736928 0.75714869\n",
      " 0.79370915 0.79166667 0.77144608 0.75265523 0.72691993 0.6629902\n",
      " 0.68198529 0.64419935 0.62152778 0.6439951  0.66319444 0.67544935\n",
      " 0.63705065 0.64603758 0.65890523 0.65870098 0.67790033 0.63194444\n",
      " 0.63112745 0.62785948 0.64767157 0.63991013 0.63480392 0.63868464\n",
      " 0.62336601 0.62745098 0.63970588 0.64705882 0.66196895 0.67075163\n",
      " 0.65196078 0.63112745 0.61294935 0.6376634  0.62254902 0.62745098\n",
      " 0.63337418 0.62642974 0.63623366 0.58312908 0.57781863 0.57230392\n",
      " 0.58006536 0.57618464 0.55167484 0.57883987 0.625      0.63582516\n",
      " 0.62949346 0.62888072 0.62765523 0.62234477 0.63378268 0.62622549\n",
      " 0.62214052 0.62418301 0.60790932 0.57950819 0.55035681 0.52558869\n",
      " 0.50531912 0.48871499 0.47531497 0.46477729 0.45671529 0.45069039\n",
      " 0.44625869 0.44300964 0.4405871  0.4386979  0.43711263 0.43566117\n",
      " 0.43422556 0.43273154 0.4311395  0.42943618 0.427627   0.42572895\n",
      " 0.42376596 0.42176384 0.41974804 0.41774094]\n",
      "26 day output [[0.41576177]]\n",
      "27 day input [0.80412582 0.78104575 0.79411765 0.76021242 0.73488562 0.72406046\n",
      " 0.73999183 0.74979575 0.76143791 0.75428922 0.74754902 0.76960784\n",
      " 0.7495915  0.81719771 0.80208333 0.77736928 0.75714869 0.79370915\n",
      " 0.79166667 0.77144608 0.75265523 0.72691993 0.6629902  0.68198529\n",
      " 0.64419935 0.62152778 0.6439951  0.66319444 0.67544935 0.63705065\n",
      " 0.64603758 0.65890523 0.65870098 0.67790033 0.63194444 0.63112745\n",
      " 0.62785948 0.64767157 0.63991013 0.63480392 0.63868464 0.62336601\n",
      " 0.62745098 0.63970588 0.64705882 0.66196895 0.67075163 0.65196078\n",
      " 0.63112745 0.61294935 0.6376634  0.62254902 0.62745098 0.63337418\n",
      " 0.62642974 0.63623366 0.58312908 0.57781863 0.57230392 0.58006536\n",
      " 0.57618464 0.55167484 0.57883987 0.625      0.63582516 0.62949346\n",
      " 0.62888072 0.62765523 0.62234477 0.63378268 0.62622549 0.62214052\n",
      " 0.62418301 0.60790932 0.57950819 0.55035681 0.52558869 0.50531912\n",
      " 0.48871499 0.47531497 0.46477729 0.45671529 0.45069039 0.44625869\n",
      " 0.44300964 0.4405871  0.4386979  0.43711263 0.43566117 0.43422556\n",
      " 0.43273154 0.4311395  0.42943618 0.427627   0.42572895 0.42376596\n",
      " 0.42176384 0.41974804 0.41774094 0.41576177]\n",
      "27 day output [[0.41382462]]\n",
      "28 day input [0.78104575 0.79411765 0.76021242 0.73488562 0.72406046 0.73999183\n",
      " 0.74979575 0.76143791 0.75428922 0.74754902 0.76960784 0.7495915\n",
      " 0.81719771 0.80208333 0.77736928 0.75714869 0.79370915 0.79166667\n",
      " 0.77144608 0.75265523 0.72691993 0.6629902  0.68198529 0.64419935\n",
      " 0.62152778 0.6439951  0.66319444 0.67544935 0.63705065 0.64603758\n",
      " 0.65890523 0.65870098 0.67790033 0.63194444 0.63112745 0.62785948\n",
      " 0.64767157 0.63991013 0.63480392 0.63868464 0.62336601 0.62745098\n",
      " 0.63970588 0.64705882 0.66196895 0.67075163 0.65196078 0.63112745\n",
      " 0.61294935 0.6376634  0.62254902 0.62745098 0.63337418 0.62642974\n",
      " 0.63623366 0.58312908 0.57781863 0.57230392 0.58006536 0.57618464\n",
      " 0.55167484 0.57883987 0.625      0.63582516 0.62949346 0.62888072\n",
      " 0.62765523 0.62234477 0.63378268 0.62622549 0.62214052 0.62418301\n",
      " 0.60790932 0.57950819 0.55035681 0.52558869 0.50531912 0.48871499\n",
      " 0.47531497 0.46477729 0.45671529 0.45069039 0.44625869 0.44300964\n",
      " 0.4405871  0.4386979  0.43711263 0.43566117 0.43422556 0.43273154\n",
      " 0.4311395  0.42943618 0.427627   0.42572895 0.42376596 0.42176384\n",
      " 0.41974804 0.41774094 0.41576177 0.41382462]\n",
      "28 day output [[0.41193992]]\n",
      "29 day input [0.79411765 0.76021242 0.73488562 0.72406046 0.73999183 0.74979575\n",
      " 0.76143791 0.75428922 0.74754902 0.76960784 0.7495915  0.81719771\n",
      " 0.80208333 0.77736928 0.75714869 0.79370915 0.79166667 0.77144608\n",
      " 0.75265523 0.72691993 0.6629902  0.68198529 0.64419935 0.62152778\n",
      " 0.6439951  0.66319444 0.67544935 0.63705065 0.64603758 0.65890523\n",
      " 0.65870098 0.67790033 0.63194444 0.63112745 0.62785948 0.64767157\n",
      " 0.63991013 0.63480392 0.63868464 0.62336601 0.62745098 0.63970588\n",
      " 0.64705882 0.66196895 0.67075163 0.65196078 0.63112745 0.61294935\n",
      " 0.6376634  0.62254902 0.62745098 0.63337418 0.62642974 0.63623366\n",
      " 0.58312908 0.57781863 0.57230392 0.58006536 0.57618464 0.55167484\n",
      " 0.57883987 0.625      0.63582516 0.62949346 0.62888072 0.62765523\n",
      " 0.62234477 0.63378268 0.62622549 0.62214052 0.62418301 0.60790932\n",
      " 0.57950819 0.55035681 0.52558869 0.50531912 0.48871499 0.47531497\n",
      " 0.46477729 0.45671529 0.45069039 0.44625869 0.44300964 0.4405871\n",
      " 0.4386979  0.43711263 0.43566117 0.43422556 0.43273154 0.4311395\n",
      " 0.42943618 0.427627   0.42572895 0.42376596 0.42176384 0.41974804\n",
      " 0.41774094 0.41576177 0.41382462 0.41193992]\n",
      "29 day output [[0.41011405]]\n",
      "[[0.6079093217849731], [0.5795081853866577], [0.5503568053245544], [0.5255886912345886], [0.5053191184997559], [0.4887149930000305], [0.4753149747848511], [0.46477729082107544], [0.45671528577804565], [0.4506903886795044], [0.44625869393348694], [0.4430096447467804], [0.4405871033668518], [0.4386979043483734], [0.43711262941360474], [0.4356611669063568], [0.43422555923461914], [0.4327315390110016], [0.4311394989490509], [0.42943617701530457], [0.42762699723243713], [0.4257289469242096], [0.42376595735549927], [0.4217638373374939], [0.4197480380535126], [0.41774094104766846], [0.4157617688179016], [0.4138246178627014], [0.41193991899490356], [0.410114049911499]]\n"
     ]
    }
   ],
   "source": [
    "temp_input = list(x_input)\n",
    "temp_input = temp_input[0].tolist()\n",
    "\n",
    "lst_output=[]\n",
    "n_steps=100\n",
    "nextNumberOfDays = 30\n",
    "i=0\n",
    "\n",
    "while(i<nextNumberOfDays):\n",
    "    \n",
    "    if(len(temp_input)>100):\n",
    "        x_input=np.array(temp_input[1:])\n",
    "        print(\"{} day input {}\".format(i,x_input))\n",
    "        x_input=x_input.reshape(1,-1)\n",
    "        x_input = x_input.reshape((1, n_steps, 1))\n",
    "        yhat = model.predict(x_input, verbose=0)\n",
    "        print(\"{} day output {}\".format(i,yhat))\n",
    "        temp_input.extend(yhat[0].tolist())\n",
    "        temp_input=temp_input[1:]\n",
    "        lst_output.extend(yhat.tolist())\n",
    "        i=i+1\n",
    "    else:\n",
    "        x_input = x_input.reshape((1, n_steps,1))\n",
    "        yhat = model.predict(x_input, verbose=0)\n",
    "        print(yhat[0])\n",
    "        temp_input.extend(yhat[0].tolist())\n",
    "        print(len(temp_input))\n",
    "        lst_output.extend(yhat.tolist())\n",
    "        i=i+1\n",
    "\n",
    "print(lst_output)"
   ]
  },
  {
   "cell_type": "code",
   "execution_count": 33,
   "id": "975b9a73",
   "metadata": {},
   "outputs": [],
   "source": [
    "day_new = np.arange(1,101)\n",
    "day_pred = np.arange(101,131)"
   ]
  },
  {
   "cell_type": "code",
   "execution_count": 34,
   "id": "af47a0db",
   "metadata": {},
   "outputs": [
    {
     "data": {
      "text/plain": [
       "(100,)"
      ]
     },
     "execution_count": 34,
     "metadata": {},
     "output_type": "execute_result"
    }
   ],
   "source": [
    "day_new.shape"
   ]
  },
  {
   "cell_type": "code",
   "execution_count": 35,
   "id": "04220604",
   "metadata": {},
   "outputs": [
    {
     "data": {
      "text/plain": [
       "(30,)"
      ]
     },
     "execution_count": 35,
     "metadata": {},
     "output_type": "execute_result"
    }
   ],
   "source": [
    "day_pred.shape"
   ]
  },
  {
   "cell_type": "code",
   "execution_count": 36,
   "id": "d6781231",
   "metadata": {},
   "outputs": [
    {
     "data": {
      "text/plain": [
       "2035"
      ]
     },
     "execution_count": 36,
     "metadata": {},
     "output_type": "execute_result"
    }
   ],
   "source": [
    "df1 = df_close.tolist()\n",
    "df1.extend(lst_output)\n",
    "len(df_close)"
   ]
  },
  {
   "cell_type": "code",
   "execution_count": 37,
   "id": "75cdcbf3",
   "metadata": {},
   "outputs": [
    {
     "data": {
      "text/plain": [
       "[<matplotlib.lines.Line2D at 0x25b5e04b130>]"
      ]
     },
     "execution_count": 37,
     "metadata": {},
     "output_type": "execute_result"
    },
    {
     "data": {
      "image/png": "[encoded data removed]",
      "text/plain": [
       "<Figure size 432x288 with 1 Axes>"
      ]
     },
     "metadata": {
      "needs_background": "light"
     },
     "output_type": "display_data"
    }
   ],
   "source": [
    "plt.plot(day_new, scaler.inverse_transform(df_close[1935:]))\n",
    "plt.plot(day_pred, scaler.inverse_transform(lst_output))"
   ]
  },
  {
   "cell_type": "code",
   "execution_count": 38,
   "id": "22f58f7f",
   "metadata": {},
   "outputs": [
    {
     "data": {
      "text/plain": [
       "[<matplotlib.lines.Line2D at 0x25b5dfd9f10>]"
      ]
     },
     "execution_count": 38,
     "metadata": {},
     "output_type": "execute_result"
    },
    {
     "data": {
      "image/png": "[encoded data removed]",
      "text/plain": [
       "<Figure size 432x288 with 1 Axes>"
      ]
     },
     "metadata": {
      "needs_background": "light"
     },
     "output_type": "display_data"
    }
   ],
   "source": [
    "df1=df_close.tolist()\n",
    "df1.extend(lst_output)\n",
    "plt.plot(df1[2000:])"
   ]
  },
  {
   "cell_type": "code",
   "execution_count": 39,
   "id": "932584fe",
   "metadata": {},
   "outputs": [],
   "source": [
    "df1=scaler.inverse_transform(df1).tolist()"
   ]
  },
  {
   "cell_type": "code",
   "execution_count": 40,
   "id": "9317e40e",
   "metadata": {},
   "outputs": [
    {
     "data": {
      "text/plain": [
       "[<matplotlib.lines.Line2D at 0x25b613ca430>]"
      ]
     },
     "execution_count": 40,
     "metadata": {},
     "output_type": "execute_result"
    },
    {
     "data": {
      "image/png": "[encoded data removed]",
      "text/plain": [
       "<Figure size 432x288 with 1 Axes>"
      ]
     },
     "metadata": {
      "needs_background": "light"
     },
     "output_type": "display_data"
    }
   ],
   "source": [
    "plt.plot(df1)"
   ]
  },
  {
   "cell_type": "markdown",
   "id": "5af99fdc",
   "metadata": {},
   "source": [
    "## Conclusion :\n",
    "\n",
    "● From the above graph, we can say that, in the beginning company started growthing but, for the last some time company's stock price is decreasing."
   ]
  }
 ],
 "metadata": {
  "kernelspec": {
   "display_name": "Python 3 (ipykernel)",
   "language": "python",
   "name": "python3"
  },
  "language_info": {
   "codemirror_mode": {
    "name": "ipython",
    "version": 3
   },
   "file_extension": ".py",
   "mimetype": "text/x-python",
   "name": "python",
   "nbconvert_exporter": "python",
   "pygments_lexer": "ipython3",
   "version": "3.9.12"
  }
 },
 "nbformat": 4,
 "nbformat_minor": 5
}
